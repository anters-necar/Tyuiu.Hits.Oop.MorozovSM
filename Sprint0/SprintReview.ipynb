{
 "cells": [
  {
   "cell_type": "code",
   "execution_count": 6,
   "id": "e499d3a9",
   "metadata": {
    "language_info": {
     "name": "polyglot-notebook"
    },
    "polyglot_notebook": {
     "kernelName": "csharp"
    }
   },
   "outputs": [
    {
     "name": "stdout",
     "output_type": "stream",
     "text": [
      "Растение цветет\n",
      "6\n",
      "Цветок Саша распускается и радует глаз!\n",
      "Цветок увядает\n",
      "Дерево Маша покрывается новыми листьями!\n",
      "Новый возраст дерева: 6\n"
     ]
    }
   ],
   "source": [
    "class Plant {\n",
    "    public string name;\n",
    "    public string type;\n",
    "    public float high;\n",
    "\n",
    "    public string Name{\n",
    "        get{ return name; }\n",
    "        set{ name = value; }\n",
    "    }\n",
    "    public string Type{\n",
    "        get{ return type; }\n",
    "        set{ type = value; }\n",
    "    }\n",
    "    public float High{\n",
    "        get{ return high; }\n",
    "        set{ high = value; }\n",
    "    }\n",
    "\n",
    "    public virtual void Bloom(){\n",
    "        Console.WriteLine(\"Растение цветет\");\n",
    "    }\n",
    "    public void Growth(float newHigh){\n",
    "        high += newHigh;\n",
    "    }\n",
    "}\n",
    "\n",
    "class Flower : Plant {\n",
    "    private string color;\n",
    "    private int count;\n",
    "\n",
    "    public string Color{\n",
    "        get{ return color; }\n",
    "        set{ color = value; }\n",
    "    }\n",
    "    public int Count{\n",
    "        get{ return count; }\n",
    "        set{ count = value; }\n",
    "    }\n",
    "\n",
    "    public override void Bloom(){\n",
    "        Console.WriteLine($\"Цветок {name} распускается и радует глаз!\");\n",
    "    }\n",
    "    public void Fading(){\n",
    "        Console.WriteLine(\"Цветок увядает\");\n",
    "    }\n",
    "}\n",
    "\n",
    "class Tree : Plant {\n",
    "    private int age;\n",
    "    private string leafType;\n",
    "\n",
    "    public string LeafType{\n",
    "        get{ return leafType; }\n",
    "        set{ leafType = value; }\n",
    "    }\n",
    "    public int Age{\n",
    "        get{ return age; }\n",
    "        set{ age = value; }\n",
    "    }\n",
    "\n",
    "    public override void Bloom(){\n",
    "        Console.WriteLine($\"Дерево {name} покрывается новыми листьями!\");\n",
    "    }\n",
    "    public void Grow(int newAge){\n",
    "        age += newAge;\n",
    "        Console.WriteLine(\"Новый возраст дерева: \"+age);\n",
    "    }\n",
    "}\n",
    "\n",
    "Plant plant = new Plant();\n",
    "plant.Bloom();\n",
    "plant.high = 3;\n",
    "plant.Growth(3);\n",
    "Console.WriteLine(plant.high);\n",
    "\n",
    "Flower flower = new Flower();\n",
    "flower.name = \"Саша\";\n",
    "flower.Bloom();\n",
    "flower.Fading();\n",
    "\n",
    "Tree tree = new Tree();\n",
    "tree.name = \"Маша\";\n",
    "tree.Bloom();\n",
    "tree.Age = 3;\n",
    "tree.Grow(3);"
   ]
  }
 ],
 "metadata": {
  "kernelspec": {
   "display_name": ".NET (C#)",
   "language": "C#",
   "name": ".net-csharp"
  },
  "language_info": {
   "name": "polyglot-notebook"
  },
  "polyglot_notebook": {
   "kernelInfo": {
    "defaultKernelName": "csharp",
    "items": [
     {
      "aliases": [],
      "name": "csharp"
     }
    ]
   }
  }
 },
 "nbformat": 4,
 "nbformat_minor": 5
}

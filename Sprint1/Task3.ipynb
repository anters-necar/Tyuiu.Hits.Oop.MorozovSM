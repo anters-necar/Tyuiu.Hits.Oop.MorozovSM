{
 "cells": [
  {
   "cell_type": "markdown",
   "metadata": {},
   "source": [
    "<h1 style=\"color:DodgerBlue\">Индивидуальный проект</h1>"
   ]
  },
  {
   "cell_type": "markdown",
   "metadata": {},
   "source": [
    "<h2 style=\"color:DodgerBlue\">Название проекта:</h2>\n",
    "\n",
    "----\n",
    "\n",
    "### Вариант задания 15\n"
   ]
  },
  {
   "cell_type": "markdown",
   "metadata": {},
   "source": [
    "<h2 style=\"color:DodgerBlue\">Описание проекта:</h2>\n",
    "\n",
    "----\n",
    "\n",
    "Описание задачи: \n",
    "Создать базовый класс OrderLine в C#, который будет представлять информацию о \n",
    "строке заказа, содержащей детали одного товара в заказе. На основе этого класса \n",
    "разработать 2-3 производных класса, демонстрирующих принципы наследования и \n",
    "полиморфизма. В каждом из классов должны быть реализованы новые атрибуты и \n",
    "методы, а также переопределены некоторые методы базового класса для \n",
    "демонстрации полиморфизма. \n",
    "Требования к базовому классу OrderLine: \n",
    "• Атрибуты: ID товара (ProductId), Название товара (ProductName), Цена \n",
    "товара (Price). \n",
    "• Методы: \n",
    "o  \n",
    "o CalculateTotal(): метод для расчета общей стоимости строки заказа. \n",
    "o UpdatePrice(decimal newPrice): метод для обновления цены товара в \n",
    "строке заказа. \n",
    "o GetProductDetails(): метод для получения деталей товара. \n",
    "Требования к производным классам: \n",
    "1. СтандартнаяСтрока (StandardLine): Должна содержать дополнительные \n",
    "атрибуты, такие как Количество единиц (Units). Метод CalculateTotal() должен \n",
    "быть переопределен для учета количества единиц при расчете общей \n",
    "стоимости. \n",
    "2. СпециальнаяСтрока (SpecialLine): Должна содержать дополнительные \n",
    "атрибуты, такие как Скидка (Discount). Метод UpdatePrice() должен быть \n",
    "переопределен для применения скидки к цене товара. \n",
    "3. БесплатнаяСтрока (FreeLine) (если требуется третий класс): Должна \n",
    "содержать дополнительные атрибуты, такие как Предварительный платеж \n",
    "(Prepayment). Метод CalculateTotal() должен быть переопределен для учета \n",
    "предварительного плата при расчете общей стоимости.\n",
    "\n",
    "#### Дополнительное задание\n",
    "Добавьте к сущестующим классам конструктора классов с использованием гетторов и сетторов и реализуйте взаимодействие объектов между собой"
   ]
  },
  {
   "cell_type": "markdown",
   "metadata": {},
   "source": [
    "<h2 style=\"color:DodgerBlue\">Реализация:</h2>\n",
    "\n",
    "----"
   ]
  },
  {
   "cell_type": "code",
   "execution_count": 7,
   "metadata": {
    "dotnet_interactive": {
     "language": "csharp"
    },
    "polyglot_notebook": {
     "kernelName": "csharp"
    }
   },
   "outputs": [
    {
     "name": "stdout",
     "output_type": "stream",
     "text": [
      "80\n",
      "4\n"
     ]
    }
   ],
   "source": [
    "class OrderLine {\n",
    "    protected int productId;\n",
    "    protected string productName;\n",
    "    protected decimal price;\n",
    "    private static int count;\n",
    "    public static int Count{\n",
    "        get { return count; }\n",
    "        }\n",
    "\n",
    "    public OrderLine(){\n",
    "        count++;\n",
    "    }\n",
    "\n",
    "    public int ProductId{\n",
    "        get{ return productId; }\n",
    "        set{ productId = value; }\n",
    "    }\n",
    "    public string ProductName{\n",
    "        get{ return productName; }\n",
    "        set{ productName = value; }\n",
    "    }\n",
    "    public decimal Price{\n",
    "        get{ return price; }\n",
    "        set{ price = value; }\n",
    "    }\n",
    "\n",
    "    public virtual decimal CalculateTotal()\n",
    "    {\n",
    "        return price;\n",
    "    }\n",
    "    public virtual void UpdatePrice(decimal newPrice)\n",
    "    {\n",
    "        price = newPrice;\n",
    "    }\n",
    "    public string GetProductDetails()\n",
    "    {\n",
    "        return $\"ID: {productId}, Name: {productName}, Price: {price}\";\n",
    "    }\n",
    "}\n",
    "\n",
    "class StandardLine : OrderLine {\n",
    "    private int units;\n",
    "\n",
    "    public int Units{\n",
    "        get{ return units; }\n",
    "        set{ units = value; }\n",
    "    }\n",
    "\n",
    "    public override decimal CalculateTotal()\n",
    "    {\n",
    "        return price * units;\n",
    "    }\n",
    "}\n",
    "\n",
    "class SpecialLine : OrderLine {\n",
    "    private decimal discount;\n",
    "\n",
    "    public decimal Discount{\n",
    "        get{ return discount; }\n",
    "        set{ discount = value; }\n",
    "    }\n",
    "\n",
    "    public override void UpdatePrice(decimal newPrice)\n",
    "    {\n",
    "        price = newPrice - discount;\n",
    "    }\n",
    "}\n",
    "\n",
    "class FreeLine : OrderLine {\n",
    "    public decimal prepayment;\n",
    "\n",
    "    public decimal Prepayment{\n",
    "        get{ return prepayment; }\n",
    "        set{ prepayment = value; }\n",
    "    }\n",
    "\n",
    "    public override decimal CalculateTotal()\n",
    "    {\n",
    "        return price - prepayment;\n",
    "    }\n",
    "}\n",
    "\n",
    "FreeLine line1 = new FreeLine();\n",
    "SpecialLine line2 = new SpecialLine();\n",
    "OrderLine line3 = new OrderLine();\n",
    "StandardLine line4 = new StandardLine();\n",
    "line1.Price = 100;\n",
    "line1.Prepayment = 20;\n",
    "line3.ProductName = \"вещь\";\n",
    "Console.WriteLine(line1.CalculateTotal());\n",
    "Console.WriteLine(OrderLine.Count);"
   ]
  }
 ],
 "metadata": {
  "kernelspec": {
   "display_name": ".NET (C#)",
   "language": "C#",
   "name": ".net-csharp"
  },
  "polyglot_notebook": {
   "kernelInfo": {
    "defaultKernelName": "csharp",
    "items": [
     {
      "aliases": [],
      "languageName": "csharp",
      "name": "csharp"
     }
    ]
   }
  }
 },
 "nbformat": 4,
 "nbformat_minor": 2
}
